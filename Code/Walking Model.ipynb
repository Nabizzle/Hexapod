{
 "cells": [
  {
   "cell_type": "markdown",
   "metadata": {},
   "source": [
    "# Imports"
   ]
  },
  {
   "cell_type": "code",
   "execution_count": 1,
   "metadata": {},
   "outputs": [],
   "source": [
    "import numpy as np\n",
    "from numpy.linalg import inv\n",
    "import matplotlib.pyplot as plt\n",
    "import matplotlib.animation as animation\n",
    "import seaborn as sns\n",
    "import math\n",
    "import time"
   ]
  },
  {
   "cell_type": "markdown",
   "metadata": {},
   "source": [
    "# Function Definitions"
   ]
  },
  {
   "cell_type": "markdown",
   "metadata": {},
   "source": [
    "## Rotation Matrices"
   ]
  },
  {
   "cell_type": "code",
   "execution_count": 2,
   "metadata": {},
   "outputs": [],
   "source": [
    "def xRot(theta):\n",
    "    # Rotation matrix for the x axis\n",
    "    angle = math.radians(theta)\n",
    "    mat = np.array([[1, 0, 0],\n",
    "                   [0, math.cos(angle), math.sin(angle)],\n",
    "                   [0, -math.sin(angle), math.cos(angle)]])\n",
    "    return mat"
   ]
  },
  {
   "cell_type": "code",
   "execution_count": 3,
   "metadata": {},
   "outputs": [],
   "source": [
    "def yRot(theta):\n",
    "    # Rotation matrix for the y axis\n",
    "    angle = math.radians(theta)\n",
    "    mat = np.array([[math.cos(angle), 0, math.sin(angle)],\n",
    "                   [0, 1, 0],\n",
    "                   [-math.sin(angle), 0, math.cos(angle)]])\n",
    "    return mat"
   ]
  },
  {
   "cell_type": "code",
   "execution_count": 4,
   "metadata": {},
   "outputs": [],
   "source": [
    "def zRot(theta):\n",
    "    # Rotation matrix for the z axis\n",
    "    angle = math.radians(theta)\n",
    "    mat = np.array([[math.cos(angle), math.sin(angle), 0],\n",
    "                   [-math.sin(angle), math.cos(angle), 0],\n",
    "                   [0, 0, 1]])\n",
    "    return mat"
   ]
  },
  {
   "cell_type": "markdown",
   "metadata": {},
   "source": [
    "## Body Functions"
   ]
  },
  {
   "cell_type": "code",
   "execution_count": 5,
   "metadata": {},
   "outputs": [],
   "source": [
    "def bodyPos(pitch = 0, roll = 0, yaw = 0, Tx = 0, Ty = 0, Tz = 0):\n",
    "    # Applies rotations in pitch, roll, and yaw and translations in x, y, and z tot he body.\n",
    "    body_rot = np.matmul(zRot(yaw), yRot(roll))\n",
    "    body_rot = np.matmul(body_rot, xRot(pitch));\n",
    "    \n",
    "    body_0 = np.matmul(inv(body_rot), np.array([[body_offset / 2, body_offset * math.sin(math.pi / 3), 0]]).T);\n",
    "    body_1 = np.matmul(inv(body_rot), np.array([[body_offset, 0, 0]]).T);\n",
    "    body_2 = np.matmul(inv(body_rot), np.array([[body_offset / 2, -body_offset * math.sin(math.pi / 3), 0]]).T);\n",
    "    body_3 = np.matmul(inv(body_rot), np.array([[-body_offset / 2, -body_offset * math.sin(math.pi / 3), 0]]).T);\n",
    "    body_4 = np.matmul(inv(body_rot), np.array([[-body_offset, 0, 0]]).T);\n",
    "    body_5 = np.matmul(inv(body_rot), np.array([[-body_offset / 2, body_offset * math.sin(math.pi / 3), 0]]).T);\n",
    "    \n",
    "    body_model = np.concatenate((body_0.T, body_1.T, body_2.T, body_3.T, body_4.T, body_5.T, body_0.T), axis = 0)\n",
    "    translation = [[Tx, Ty, Tz],\n",
    "    [Tx, Ty, Tz],\n",
    "    [Tx, Ty, Tz],\n",
    "    [Tx, Ty, Tz],\n",
    "    [Tx, Ty, Tz],\n",
    "    [Tx, Ty, Tz],\n",
    "    [Tx, Ty, Tz]]\n",
    "    \n",
    "    body_model = body_model + translation\n",
    "    \n",
    "    return body_model"
   ]
  },
  {
   "cell_type": "markdown",
   "metadata": {},
   "source": [
    "## Leg Functions"
   ]
  },
  {
   "cell_type": "code",
   "execution_count": 6,
   "metadata": {},
   "outputs": [],
   "source": [
    "def legPos(coax_angle, femur_angle, tibia_angle, body_model, leg_num):\n",
    "    # finds the positions for the coax, femur, and tibia leg segments and adds them to the body model\n",
    "    coax_rot = zRot(coax_angle)\n",
    "    femur_rot = np.matmul(yRot(femur_angle), coax_rot)\n",
    "    tibia_rot = np.matmul(yRot(tibia_angle), femur_rot)\n",
    "    \n",
    "    leg_coax = np.matmul(inv(coax_rot), np.array([[coax, 0, 0]]).T) + np.array([body_model[leg_num, :]]).T\n",
    "    leg_femur = np.matmul(inv(femur_rot), np.array([[femur, 0, 0]]).T) + leg_coax\n",
    "    leg_tibia = np.matmul(inv(tibia_rot), np.array([[0, 0, -tibia]]).T) + leg_femur\n",
    "                       \n",
    "    leg_positions = np.concatenate((np.array([body_model[leg_num, :]]), leg_coax.T, leg_femur.T, leg_tibia.T), axis = 0)\n",
    "    return leg_positions"
   ]
  },
  {
   "cell_type": "code",
   "execution_count": 7,
   "metadata": {},
   "outputs": [],
   "source": [
    "def legAngle(x, y, z):\n",
    "    # finds the angles for the coax, femur, and tibia leg segments\n",
    "    coax_angle = math.degrees(math.atan2(y, x));\n",
    "    coax_rot = zRot(-coax_angle)\n",
    "    leg_rotated = np.matmul(inv(coax_rot), np.array([[x, y, z]]).T)\n",
    "    femur_angle = math.degrees(math.acos((tibia ** 2 - femur ** 2 - leg_rotated[2] ** 2 - (leg_rotated[0] - coax) ** 2) / (-2 * femur * (math.sqrt(leg_rotated[2] ** 2 + (leg_rotated[0] - coax) ** 2))))) - math.degrees(math.atan2(-leg_rotated[2], (leg_rotated[0] - coax)));\n",
    "    tibia_angle = math.degrees(math.acos((leg_rotated[2] ** 2 + (leg_rotated[0] - coax) ** 2 - femur ** 2 - tibia ** 2) / (-2 * femur * tibia))) - 90;\n",
    "    \n",
    "    if abs(coax_angle) <= 1e-10:\n",
    "        coax_angle = 0;\n",
    "        \n",
    "    if abs(femur_angle) <= 1e-10:\n",
    "        femur_angle = 0;\n",
    "    \n",
    "    if abs(tibia_angle) <= 1e-10:\n",
    "        tibia_angle = 0;\n",
    "    \n",
    "    return [coax_angle, femur_angle, tibia_angle]"
   ]
  },
  {
   "cell_type": "markdown",
   "metadata": {},
   "source": [
    "### Create the starting angles of the legs on the hexapod based "
   ]
  },
  {
   "cell_type": "code",
   "execution_count": 8,
   "metadata": {},
   "outputs": [],
   "source": [
    "def startLegPos(body_model, start_radius = 150, start_height = 20):\n",
    "    start_leg_pos = np.array([[start_radius * math.cos(math.pi / 3), start_radius * math.sin(math.pi / 3), - start_height],\n",
    "    [start_radius, 0, - start_height],\n",
    "    [start_radius * math.cos(- math.pi / 3), start_radius * math.sin(- math.pi / 3), - start_height],\n",
    "    [start_radius * math.cos(- 2 * math.pi / 3) , start_radius * math.sin(- 2 * math.pi / 3), - start_height],\n",
    "    [- start_radius, 0, - start_height],\n",
    "    [start_radius * math.cos(2 * math.pi / 3), start_radius * math.sin(2 * math.pi / 3), - start_height]])\n",
    "    start_leg =  recalculateLegAngles(start_leg_pos, body_model)\n",
    "    return start_leg"
   ]
  },
  {
   "cell_type": "markdown",
   "metadata": {},
   "source": [
    "### Get the current feet positions"
   ]
  },
  {
   "cell_type": "code",
   "execution_count": 9,
   "metadata": {},
   "outputs": [],
   "source": [
    "def getFeetPos(leg_model):\n",
    "    feet_positions = np.empty([6, 3])\n",
    "    for i in range(6):\n",
    "        feet_positions[i, :] = leg_model[3, :, i]\n",
    "    return feet_positions"
   ]
  },
  {
   "cell_type": "markdown",
   "metadata": {},
   "source": [
    "### General Foot Position to Leg Angle Function"
   ]
  },
  {
   "cell_type": "code",
   "execution_count": 10,
   "metadata": {},
   "outputs": [],
   "source": [
    "def recalculateLegAngles(feet_positions, body_model):\n",
    "    leg_angles = np.empty([6, 3])\n",
    "    for i in range(6):\n",
    "        leg_angles[i, :] = legAngle(feet_positions[i, 0] - body_model[i, 0], feet_positions[i, 1] - body_model[i, 1], feet_positions[i, 2] - body_model[i, 2])\n",
    "    return leg_angles"
   ]
  },
  {
   "cell_type": "markdown",
   "metadata": {},
   "source": [
    "### Apply Leg Angles to Model"
   ]
  },
  {
   "cell_type": "code",
   "execution_count": 11,
   "metadata": {},
   "outputs": [],
   "source": [
    "def legModel(leg_angles):\n",
    "    leg_model = np.empty([4, 3, 6])\n",
    "    for i in range(6):\n",
    "        leg_model[:, :, i] = legPos(leg_angles[i][0], leg_angles[i][1], leg_angles[i][2], body_model, i) #coax angle, femur angle, tibia angle, model of the hexapod body, leg number\n",
    "    return leg_model"
   ]
  },
  {
   "cell_type": "markdown",
   "metadata": {},
   "source": [
    "## Walking Functions"
   ]
  },
  {
   "cell_type": "markdown",
   "metadata": {},
   "source": [
    "### Step Calculations"
   ]
  },
  {
   "cell_type": "code",
   "execution_count": 12,
   "metadata": {},
   "outputs": [],
   "source": [
    "def step_forward(step_angle = 90, distance = 30, step_height = 15, right_foot = True):\n",
    "    z_resolution = 1 # the forward distance of each sub step.\n",
    "    x_resolution = z_resolution * math.cos(math.radians(step_angle))\n",
    "    y_resolution = z_resolution * math.sin(math.radians(step_angle))\n",
    "\n",
    "    z = np.array([-(i ** 2) / 4 + ((step_height) ** 2) / 4 for i in np.arange (- step_height, step_height + z_resolution, z_resolution)])\n",
    "    x = np.linspace(0, distance * math.cos(math.radians(step_angle)), z.size)\n",
    "    y = np.linspace(0, distance * math.sin(math.radians(step_angle)), z.size)\n",
    "    lead_foot = np.dstack((x, y, z)).reshape(z.size, 1, 3)\n",
    "    dragging_foot = np.dstack((- x, - y, np.zeros(z.size))).reshape(z.size, 1, 3)\n",
    "    \n",
    "    #define legs 0, 2, and 4 as the right legs and legs 1, 3, 5 as the left legs\n",
    "    if right_foot: #right foot\n",
    "        feet = np.concatenate((lead_foot, dragging_foot, lead_foot, dragging_foot, lead_foot, dragging_foot), axis = 1)\n",
    "    else:\n",
    "        feet = np.concatenate((dragging_foot, lead_foot, dragging_foot, lead_foot, dragging_foot, lead_foot), axis = 1)\n",
    "        \n",
    "    return feet"
   ]
  },
  {
   "cell_type": "code",
   "execution_count": 13,
   "metadata": {},
   "outputs": [],
   "source": [
    "def step_turn_foot(foot_x, foot_y, foot_z, step_angle = 15, step_height = 15, right_foot = True):\n",
    "    z_resolution = 1 # the forward distance of each sub step.\n",
    "    radius = math.sqrt(foot_x ** 2 + foot_y ** 2)\n",
    "    foot_angle = math.degrees(math.atan2(foot_y, foot_x))\n",
    "\n",
    "    z = np.array([-(i ** 2) / 4 + ((step_height) ** 2) / 4 + foot_z for i in np.arange (- step_height, step_height + z_resolution, z_resolution)])\n",
    "    x = np.empty(z.size)\n",
    "    y = np.empty(z.size)\n",
    "    angles = np.linspace(foot_angle, foot_angle + step_angle, z.size)\n",
    "    for i, angle in enumerate(angles):\n",
    "        x[i] = radius * math.cos(math.radians(angle))\n",
    "        y[i] = radius * math.sin(math.radians(angle))\n",
    "\n",
    "    lead_foot = np.dstack((x, y, z)).reshape(z.size, 1, 3)\n",
    "    dragging_foot = np.dstack((- x, - y, np.zeros(z.size))).reshape(z.size, 1, 3)\n",
    "    \n",
    "    #define legs 0, 2, and 4 as the right legs and legs 1, 3, 5 as the left legs\n",
    "    if right_foot: #right foot\n",
    "        return lead_foot\n",
    "    else:\n",
    "        return dragging_foot"
   ]
  },
  {
   "cell_type": "code",
   "execution_count": 14,
   "metadata": {},
   "outputs": [],
   "source": [
    "def step_turn(feet_pos, step_angle = 15, step_height = 15, right_foot = True):\n",
    "    for i in range(6):\n",
    "        footstep = step_turn_foot(foot_x = feet_pos[i, 0], foot_y = feet_pos[i, 1], foot_z = feet_pos[i, 2], step_angle = step_angle, step_height = step_height, right_foot = right_foot)\n",
    "        right_foot = not right_foot\n",
    "        if i == 0:\n",
    "            previous_foot = footstep\n",
    "        else:\n",
    "            previous_foot = np.concatenate((previous_foot, footstep), axis = 1)\n",
    "            \n",
    "    return previous_foot"
   ]
  },
  {
   "cell_type": "markdown",
   "metadata": {},
   "source": [
    "### Walk Cycle"
   ]
  },
  {
   "cell_type": "code",
   "execution_count": 15,
   "metadata": {},
   "outputs": [],
   "source": [
    "def walk(body_model, leg_model, fig, distance = 30, angle = 90):\n",
    "    max_step_size = 30 #Maximum step distance\n",
    "    if distance <= 0: #raise an error if the robot is not commanded to move a positive distance\n",
    "        raise ValueError(\"distance must be a positive distance\")\n",
    "    else: #find the number of steps to take\n",
    "        steps = int(distance / max_step_size)\n",
    "        if distance % max_step_size > 0:\n",
    "            steps += 1\n",
    "    \n",
    "    right_foot = True; #If the right foot is moving forward\n",
    "    remaining_distance = distance #Sets the remaining distance to move forward as the full distane to move\n",
    "    for i in range(steps): #iterate over the number of steps to take\n",
    "        if remaining_distance <= max_step_size: #if the remaining distance to move is less than the max step size, then move the robot remaining distance\n",
    "            if steps == 1: #if this is the only step then the feet only needs to move forward the remaining distance\n",
    "                temp_walk_positions = step_forward(step_angle = angle, distance = remaining_distance, right_foot = right_foot)\n",
    "            else: #if this is not the first step the robot needs to move forward the max step size first to bring the robot to a neutral position before moving the rest of the distance.\n",
    "                temp_walk_positions = step_forward(step_angle = angle, distance = remaining_distance + max_step_size, right_foot = right_foot)\n",
    "                \n",
    "            try: #try to get the current feet positions from the last stepped position\n",
    "                feet_positions = walk_positions[-1, :, :]\n",
    "            except: #if there was not a step yet get the feet positions from the leg model\n",
    "                feet_positions = getFeetPos(leg_model)\n",
    "            for j in range(temp_walk_positions.shape[0]): #add all of the feet positions to the walk\n",
    "                temp_walk_positions[j, :, :] = temp_walk_positions[j, :, :] + feet_positions\n",
    "            try: # try to add the next step to the walk\n",
    "                walk_positions = np.concatenate((walk_positions, temp_walk_positions), axis = 0)\n",
    "            except: #if this is the first step, create the walk array with the first step\n",
    "                walk_positions = temp_walk_positions\n",
    "            right_foot = not right_foot #switch which foot steps forward\n",
    "            break\n",
    "        \n",
    "        elif i == 0: #if this is the first of more than one step, move forward the max distance\n",
    "            walk_positions = step_forward(step_angle = angle, distance = max_step_size, right_foot = right_foot)\n",
    "            for j in range(walk_positions.shape[0]):\n",
    "                feet_positions = getFeetPos(leg_model)\n",
    "                walk_positions[j, :, :] = walk_positions[j, :, :] + feet_positions\n",
    "            remaining_distance -= max_step_size #reduce the remaining distance by the max step size\n",
    "            right_foot = not right_foot\n",
    "            \n",
    "        else: #if this is not the first step and the next step is more than the max distance, move the legs forward by twice the max distance to reset and then move forward the max distance\n",
    "            temp_walk_positions = step_forward(step_angle = angle, distance = max_step_size * 2, right_foot = right_foot)\n",
    "            \n",
    "            try:\n",
    "                feet_positions = walk_positions[-1, :, :]\n",
    "            except:\n",
    "                feet_positions = getFeetPos(leg_model)\n",
    "            for j in range(temp_walk_positions.shape[0]):\n",
    "                temp_walk_positions[j, :, :] = temp_walk_positions[j, :, :] + feet_positions\n",
    "            walk_positions = np.concatenate((walk_positions, temp_walk_positions), axis = 0)\n",
    "            remaining_distance -= max_step_size\n",
    "            right_foot = not right_foot\n",
    "            \n",
    "    temp_walk_positions = step_forward(step_angle = angle, distance = remaining_distance, right_foot = right_foot) #reset the position of the robot by moving the last step distance\n",
    "    for j in range(temp_walk_positions.shape[0]):\n",
    "        feet_positions = walk_positions[-1, :, :]\n",
    "        temp_walk_positions[j, :, :] = temp_walk_positions[j, :, :] + feet_positions\n",
    "    walk_positions = np.concatenate((walk_positions, temp_walk_positions), axis = 0)\n",
    "    #create a video of the walk cycle\n",
    "    Writer = animation.writers['ffmpeg']\n",
    "    writer = Writer(fps=20, metadata=dict(artist='Nabeel'), bitrate=1800)\n",
    "    ani = animation.FuncAnimation(fig, animate, frames=walk_positions.shape[0], repeat=True, fargs = (walk_positions, body_model, leg_model, fig))\n",
    "    ani.save('../Docs/Media/Hexapod_Walk.mp4', writer=writer)"
   ]
  },
  {
   "cell_type": "markdown",
   "metadata": {},
   "source": [
    "### Turn Cycle"
   ]
  },
  {
   "cell_type": "code",
   "execution_count": 16,
   "metadata": {},
   "outputs": [],
   "source": [
    "def turn(body_model, leg_model, fig, turn_angle = 60):\n",
    "    max_turn_angle = 15 #sets the maximum angle to turn by.\n",
    "    if turn_angle <= 0: #Raise an error is the robot is not commanded to move a positive angle counter clockwise\n",
    "        raise ValueError(\"turn angle must be positive.\")\n",
    "    else: #find the number of steps to take\n",
    "        steps = int(turn_angle / max_turn_angle)\n",
    "        if turn_angle % max_turn_angle > 0:\n",
    "            steps += 1\n",
    "    \n",
    "    right_foot = True; #If the right foot is moving forward\n",
    "    remaining_turn_distance = turn_angle #Sets the remaining turn distance to the full turn\n",
    "    for i in range(steps): #iterate over the number of steps to take\n",
    "        if remaining_turn_distance <= max_turn_angle: #if the remaining turn distance to move is less than the max turn angle, then turn the robot the remaining angle\n",
    "            try: #try to get the current feet positions from the last stepped position\n",
    "                feet_positions = walk_positions[-1, :, :]\n",
    "            except: #if there was not a step yet get the feet positions from the leg model\n",
    "                feet_positions = getFeetPos(leg_model)\n",
    "                \n",
    "            if steps == 1: #if this is the only step then the feet only need to turn the robot the remaining turn distance\n",
    "                #new stuff                    \n",
    "                temp_turn_positions = step_turn(step_angle = angle, distance = remaining_distance, right_foot = right_foot)\n",
    "            else: #if this is not the first step the robot needs to move forward the max step size first to bring the robot to a neutral position before moving the rest of the distance.\n",
    "                temp_walk_positions = step_forward(step_angle = angle, distance = remaining_distance + max_step_size, right_foot = right_foot)\n",
    "            for j in range(temp_walk_positions.shape[0]): #add all of the feet positions to the walk\n",
    "                temp_walk_positions[j, :, :] = temp_walk_positions[j, :, :] + feet_positions\n",
    "            try: # try to add the next step to the walk\n",
    "                walk_positions = np.concatenate((walk_positions, temp_walk_positions), axis = 0)\n",
    "            except: #if this is the first step, create the walk array with the first step\n",
    "                walk_positions = temp_walk_positions\n",
    "            right_foot = not right_foot #switch which foot steps forward\n",
    "            break\n",
    "        \n",
    "        elif i == 0: #if this is the first of more than one step, move forward the max distance\n",
    "            walk_positions = step_forward(step_angle = angle, distance = max_step_size, right_foot = right_foot)\n",
    "            for j in range(walk_positions.shape[0]):\n",
    "                feet_positions = getFeetPos(leg_model)\n",
    "                walk_positions[j, :, :] = walk_positions[j, :, :] + feet_positions\n",
    "            remaining_distance -= max_step_size #reduce the remaining distance by the max step size\n",
    "            right_foot = not right_foot\n",
    "            \n",
    "        else: #if this is not the first step and the next step is more than the max distance, move the legs forward by twice the max distance to reset and then move forward the max distance\n",
    "            temp_walk_positions = step_forward(step_angle = angle, distance = max_step_size * 2, right_foot = right_foot)\n",
    "            \n",
    "            try:\n",
    "                feet_positions = walk_positions[-1, :, :]\n",
    "            except:\n",
    "                feet_positions = getFeetPos(leg_model)\n",
    "            for j in range(temp_walk_positions.shape[0]):\n",
    "                temp_walk_positions[j, :, :] = temp_walk_positions[j, :, :] + feet_positions\n",
    "            walk_positions = np.concatenate((walk_positions, temp_walk_positions), axis = 0)\n",
    "            remaining_distance -= max_step_size\n",
    "            right_foot = not right_foot\n",
    "            \n",
    "    temp_walk_positions = step_forward(step_angle = angle, distance = remaining_distance, right_foot = right_foot) #reset the position of the robot by moving the last step distance\n",
    "    for j in range(temp_walk_positions.shape[0]):\n",
    "        feet_positions = walk_positions[-1, :, :]\n",
    "        temp_walk_positions[j, :, :] = temp_walk_positions[j, :, :] + feet_positions\n",
    "    walk_positions = np.concatenate((walk_positions, temp_walk_positions), axis = 0)\n",
    "    #create a video of the walk cycle\n",
    "    Writer = animation.writers['ffmpeg']\n",
    "    writer = Writer(fps=20, metadata=dict(artist='Nabeel'), bitrate=1800)\n",
    "    ani = animation.FuncAnimation(fig, animate, frames=walk_positions.shape[0], repeat=True, fargs = (walk_positions, body_model, leg_model, fig))\n",
    "    ani.save('../Docs/Media/Hexapod_Walk.mp4', writer=writer)"
   ]
  },
  {
   "cell_type": "markdown",
   "metadata": {},
   "source": [
    "## Plot Model"
   ]
  },
  {
   "cell_type": "code",
   "execution_count": 17,
   "metadata": {},
   "outputs": [],
   "source": [
    "def showModel(body_model, leg_model, fig, floor = -20):\n",
    "    fig.clf()\n",
    "    ax = plt.axes(projection ='3d')\n",
    "    # plotting\n",
    "    ax.plot3D(body_model[:, 0], body_model[:, 1], body_model[:, 2], 'green');\n",
    "    for i in range(6):\n",
    "        #\"right\" legs are blue and \"left\" legs are red\n",
    "        if i % 2 == 0:\n",
    "            ax.plot3D(leg_model[:, 0, i], leg_model[:, 1, i], leg_model[:, 2, i], 'blue');\n",
    "        else:\n",
    "            ax.plot3D(leg_model[:, 0, i], leg_model[:, 1, i], leg_model[:, 2, i], 'red');\n",
    "    ax.set_xlim(-200, 200);\n",
    "    ax.set_ylim(-200, 200);\n",
    "    ax.set_zlim(floor, 100);\n",
    "    ax.view_init(15, -15)\n",
    "    \n",
    "    fig.subplots_adjust(left=0, right=1, bottom=0, top=1)\n",
    "    fig.canvas.draw()\n",
    "    fig.canvas.flush_events()"
   ]
  },
  {
   "cell_type": "code",
   "execution_count": 18,
   "metadata": {},
   "outputs": [],
   "source": [
    "def animate(i, walk_positions, body_model, leg_model, fig):\n",
    "    leg_model = legModel(recalculateLegAngles(walk_positions[i, :, :], body_model))\n",
    "    showModel(body_model, leg_model, fig = fig)"
   ]
  },
  {
   "cell_type": "markdown",
   "metadata": {},
   "source": [
    "# Hexapod Measurments"
   ]
  },
  {
   "cell_type": "code",
   "execution_count": 19,
   "metadata": {},
   "outputs": [],
   "source": [
    "# hexapod measurments\n",
    "body_offset = 85 #mm\n",
    "coax = 26.34 #mm\n",
    "femur = 76.2 #mm\n",
    "tibia = 88.32 #mm"
   ]
  },
  {
   "cell_type": "markdown",
   "metadata": {},
   "source": [
    "# Body Starting Position"
   ]
  },
  {
   "cell_type": "code",
   "execution_count": 20,
   "metadata": {},
   "outputs": [],
   "source": [
    "body_model = bodyPos(0, 0, 0, 0, 0, 0);"
   ]
  },
  {
   "cell_type": "markdown",
   "metadata": {},
   "source": [
    "# Leg Starting Positions"
   ]
  },
  {
   "cell_type": "code",
   "execution_count": 21,
   "metadata": {},
   "outputs": [],
   "source": [
    "start_leg = startLegPos(body_model)\n",
    "leg_model = legModel(start_leg)"
   ]
  },
  {
   "cell_type": "code",
   "execution_count": null,
   "metadata": {},
   "outputs": [],
   "source": [
    "%matplotlib inline\n",
    "plt.close()\n",
    "fig = plt.figure(figsize=[15, 15])\n",
    "showModel(body_model, leg_model, fig = fig)"
   ]
  },
  {
   "cell_type": "code",
   "execution_count": null,
   "metadata": {},
   "outputs": [],
   "source": [
    "%matplotlib qt\n",
    "plt.close()\n",
    "fig = plt.figure(figsize=[15, 15])"
   ]
  },
  {
   "cell_type": "code",
   "execution_count": null,
   "metadata": {},
   "outputs": [],
   "source": [
    "#walk(body_model, leg_model, fig = fig, distance = 70, angle = 90)"
   ]
  },
  {
   "cell_type": "code",
   "execution_count": null,
   "metadata": {},
   "outputs": [
    {
     "name": "stdout",
     "output_type": "stream",
     "text": [
      "-20.000000000000014\n"
     ]
    }
   ],
   "source": [
    "feet_pos = getFeetPos(leg_model)\n",
    "print(feet_pos[0, 2])"
   ]
  },
  {
   "cell_type": "code",
   "execution_count": null,
   "metadata": {},
   "outputs": [
    {
     "name": "stdout",
     "output_type": "stream",
     "text": [
      "0\n",
      "1\n",
      "2\n",
      "3\n",
      "4\n",
      "5\n"
     ]
    }
   ],
   "source": [
    "for i in range(6):\n",
    "    print(i)"
   ]
  },
  {
   "cell_type": "code",
   "execution_count": null,
   "metadata": {},
   "outputs": [],
   "source": [
    "walk_positions = step_turn(getFeetPos(leg_model), step_angle = 15, step_height = 15, right_foot = True)\n",
    "#print(walk_positions)"
   ]
  },
  {
   "cell_type": "code",
   "execution_count": null,
   "metadata": {},
   "outputs": [
    {
     "ename": "RuntimeError",
     "evalue": "Requested MovieWriter (ffmpeg) not available",
     "output_type": "error",
     "traceback": [
      "\u001b[1;31m---------------------------------------------------------------------------\u001b[0m",
      "\u001b[1;31mRuntimeError\u001b[0m                              Traceback (most recent call last)",
      "\u001b[1;32m~\\AppData\\Local\\Temp/ipykernel_18084/3356388546.py\u001b[0m in \u001b[0;36m<module>\u001b[1;34m\u001b[0m\n\u001b[1;32m----> 1\u001b[1;33m \u001b[0mWriter\u001b[0m \u001b[1;33m=\u001b[0m \u001b[0manimation\u001b[0m\u001b[1;33m.\u001b[0m\u001b[0mwriters\u001b[0m\u001b[1;33m[\u001b[0m\u001b[1;34m'ffmpeg'\u001b[0m\u001b[1;33m]\u001b[0m\u001b[1;33m\u001b[0m\u001b[1;33m\u001b[0m\u001b[0m\n\u001b[0m\u001b[0;32m      2\u001b[0m \u001b[0mwriter\u001b[0m \u001b[1;33m=\u001b[0m \u001b[0mWriter\u001b[0m\u001b[1;33m(\u001b[0m\u001b[0mfps\u001b[0m\u001b[1;33m=\u001b[0m\u001b[1;36m20\u001b[0m\u001b[1;33m,\u001b[0m \u001b[0mmetadata\u001b[0m\u001b[1;33m=\u001b[0m\u001b[0mdict\u001b[0m\u001b[1;33m(\u001b[0m\u001b[0martist\u001b[0m\u001b[1;33m=\u001b[0m\u001b[1;34m'Nabeel'\u001b[0m\u001b[1;33m)\u001b[0m\u001b[1;33m,\u001b[0m \u001b[0mbitrate\u001b[0m\u001b[1;33m=\u001b[0m\u001b[1;36m1800\u001b[0m\u001b[1;33m)\u001b[0m\u001b[1;33m\u001b[0m\u001b[1;33m\u001b[0m\u001b[0m\n\u001b[0;32m      3\u001b[0m \u001b[0mani\u001b[0m \u001b[1;33m=\u001b[0m \u001b[0manimation\u001b[0m\u001b[1;33m.\u001b[0m\u001b[0mFuncAnimation\u001b[0m\u001b[1;33m(\u001b[0m\u001b[0mfig\u001b[0m\u001b[1;33m,\u001b[0m \u001b[0manimate\u001b[0m\u001b[1;33m,\u001b[0m \u001b[0mframes\u001b[0m\u001b[1;33m=\u001b[0m\u001b[0mwalk_positions\u001b[0m\u001b[1;33m.\u001b[0m\u001b[0mshape\u001b[0m\u001b[1;33m[\u001b[0m\u001b[1;36m0\u001b[0m\u001b[1;33m]\u001b[0m\u001b[1;33m,\u001b[0m \u001b[0mrepeat\u001b[0m\u001b[1;33m=\u001b[0m\u001b[1;32mTrue\u001b[0m\u001b[1;33m,\u001b[0m \u001b[0mfargs\u001b[0m \u001b[1;33m=\u001b[0m \u001b[1;33m(\u001b[0m\u001b[0mwalk_positions\u001b[0m\u001b[1;33m,\u001b[0m \u001b[0mbody_model\u001b[0m\u001b[1;33m,\u001b[0m \u001b[0mleg_model\u001b[0m\u001b[1;33m,\u001b[0m \u001b[0mfig\u001b[0m\u001b[1;33m)\u001b[0m\u001b[1;33m)\u001b[0m\u001b[1;33m\u001b[0m\u001b[1;33m\u001b[0m\u001b[0m\n\u001b[0;32m      4\u001b[0m \u001b[0mani\u001b[0m\u001b[1;33m.\u001b[0m\u001b[0msave\u001b[0m\u001b[1;33m(\u001b[0m\u001b[1;34m'../Docs/Media/Hexapod_Turn.mp4'\u001b[0m\u001b[1;33m,\u001b[0m \u001b[0mwriter\u001b[0m\u001b[1;33m=\u001b[0m\u001b[0mwriter\u001b[0m\u001b[1;33m)\u001b[0m\u001b[1;33m\u001b[0m\u001b[1;33m\u001b[0m\u001b[0m\n",
      "\u001b[1;32m~\\anaconda3\\lib\\site-packages\\matplotlib\\animation.py\u001b[0m in \u001b[0;36m__getitem__\u001b[1;34m(self, name)\u001b[0m\n\u001b[0;32m    149\u001b[0m         \u001b[1;32mif\u001b[0m \u001b[0mself\u001b[0m\u001b[1;33m.\u001b[0m\u001b[0mis_available\u001b[0m\u001b[1;33m(\u001b[0m\u001b[0mname\u001b[0m\u001b[1;33m)\u001b[0m\u001b[1;33m:\u001b[0m\u001b[1;33m\u001b[0m\u001b[1;33m\u001b[0m\u001b[0m\n\u001b[0;32m    150\u001b[0m             \u001b[1;32mreturn\u001b[0m \u001b[0mself\u001b[0m\u001b[1;33m.\u001b[0m\u001b[0m_registered\u001b[0m\u001b[1;33m[\u001b[0m\u001b[0mname\u001b[0m\u001b[1;33m]\u001b[0m\u001b[1;33m\u001b[0m\u001b[1;33m\u001b[0m\u001b[0m\n\u001b[1;32m--> 151\u001b[1;33m         \u001b[1;32mraise\u001b[0m \u001b[0mRuntimeError\u001b[0m\u001b[1;33m(\u001b[0m\u001b[1;34mf\"Requested MovieWriter ({name}) not available\"\u001b[0m\u001b[1;33m)\u001b[0m\u001b[1;33m\u001b[0m\u001b[1;33m\u001b[0m\u001b[0m\n\u001b[0m\u001b[0;32m    152\u001b[0m \u001b[1;33m\u001b[0m\u001b[0m\n\u001b[0;32m    153\u001b[0m \u001b[1;33m\u001b[0m\u001b[0m\n",
      "\u001b[1;31mRuntimeError\u001b[0m: Requested MovieWriter (ffmpeg) not available"
     ]
    }
   ],
   "source": [
    "Writer = animation.writers['ffmpeg']\n",
    "writer = Writer(fps=20, metadata=dict(artist='Nabeel'), bitrate=1800)\n",
    "ani = animation.FuncAnimation(fig, animate, frames=walk_positions.shape[0], repeat=True, fargs = (walk_positions, body_model, leg_model, fig))\n",
    "ani.save('../Docs/Media/Hexapod_Turn.mp4', writer=writer)"
   ]
  },
  {
   "cell_type": "code",
   "execution_count": null,
   "metadata": {},
   "outputs": [],
   "source": []
  }
 ],
 "metadata": {
  "kernelspec": {
   "display_name": "Python 3 (ipykernel)",
   "language": "python",
   "name": "python3"
  },
  "language_info": {
   "codemirror_mode": {
    "name": "ipython",
    "version": 3
   },
   "file_extension": ".py",
   "mimetype": "text/x-python",
   "name": "python",
   "nbconvert_exporter": "python",
   "pygments_lexer": "ipython3",
   "version": "3.8.12"
  }
 },
 "nbformat": 4,
 "nbformat_minor": 4
}
