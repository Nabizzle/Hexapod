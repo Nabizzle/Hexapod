{
 "cells": [
  {
   "cell_type": "markdown",
   "metadata": {},
   "source": [
    "# Imports"
   ]
  },
  {
   "cell_type": "code",
   "execution_count": null,
   "metadata": {},
   "outputs": [],
   "source": [
    "import numpy as np\n",
    "from numpy.linalg import inv\n",
    "import matplotlib.pyplot as plt\n",
    "import seaborn as sns\n",
    "import math"
   ]
  },
  {
   "cell_type": "markdown",
   "metadata": {},
   "source": [
    "# Function Definitions"
   ]
  },
  {
   "cell_type": "markdown",
   "metadata": {},
   "source": [
    "## Rotation Matrices"
   ]
  },
  {
   "cell_type": "code",
   "execution_count": null,
   "metadata": {},
   "outputs": [],
   "source": [
    "def xRot(theta):\n",
    "    # Rotation matrix for the x axis\n",
    "    angle = math.radians(theta)\n",
    "    mat = np.array([[1, 0, 0],\n",
    "                   [0, math.cos(angle), math.sin(angle)],\n",
    "                   [0, -math.sin(angle), math.cos(angle)]])\n",
    "    return mat"
   ]
  },
  {
   "cell_type": "code",
   "execution_count": null,
   "metadata": {},
   "outputs": [],
   "source": [
    "def yRot(theta):\n",
    "    # Rotation matrix for the y axis\n",
    "    angle = math.radians(theta)\n",
    "    mat = np.array([[math.cos(angle), 0, math.sin(angle)],\n",
    "                   [0, 1, 0],\n",
    "                   [-math.sin(angle), 0, math.cos(angle)]])\n",
    "    return mat"
   ]
  },
  {
   "cell_type": "code",
   "execution_count": null,
   "metadata": {},
   "outputs": [],
   "source": [
    "def zRot(theta):\n",
    "    # Rotation matrix for the z axis\n",
    "    angle = math.radians(theta)\n",
    "    mat = np.array([[math.cos(angle), math.sin(angle), 0],\n",
    "                   [-math.sin(angle), math.cos(angle), 0],\n",
    "                   [0, 0, 1]])\n",
    "    return mat"
   ]
  },
  {
   "cell_type": "markdown",
   "metadata": {},
   "source": [
    "## Body Functions"
   ]
  },
  {
   "cell_type": "code",
   "execution_count": null,
   "metadata": {},
   "outputs": [],
   "source": [
    "def bodyPos(pitch = 0, roll = 0, yaw = 0, Tx = 0, Ty = 0, Tz = 0):\n",
    "    # Applies rotations in pitch, roll, and yaw and translations in x, y, and z tot he body.\n",
    "    body_rot = np.matmul(zRot(yaw), yRot(roll))\n",
    "    body_rot = np.matmul(body_rot, xRot(pitch));\n",
    "    \n",
    "    body_0 = np.matmul(inv(body_rot), np.array([[body_offset / 2, body_offset * math.sin(math.pi / 3), 0]]).T);\n",
    "    body_1 = np.matmul(inv(body_rot), np.array([[body_offset, 0, 0]]).T);\n",
    "    body_2 = np.matmul(inv(body_rot), np.array([[body_offset / 2, -body_offset * math.sin(math.pi / 3), 0]]).T);\n",
    "    body_3 = np.matmul(inv(body_rot), np.array([[-body_offset / 2, -body_offset * math.sin(math.pi / 3), 0]]).T);\n",
    "    body_4 = np.matmul(inv(body_rot), np.array([[-body_offset, 0, 0]]).T);\n",
    "    body_5 = np.matmul(inv(body_rot), np.array([[-body_offset / 2, body_offset * math.sin(math.pi / 3), 0]]).T);\n",
    "    \n",
    "    body_model = np.concatenate((body_0.T, body_1.T, body_2.T, body_3.T, body_4.T, body_5.T, body_0.T), axis = 0)\n",
    "    translation = [[Tx, Ty, Tz],\n",
    "    [Tx, Ty, Tz],\n",
    "    [Tx, Ty, Tz],\n",
    "    [Tx, Ty, Tz],\n",
    "    [Tx, Ty, Tz],\n",
    "    [Tx, Ty, Tz],\n",
    "    [Tx, Ty, Tz]]\n",
    "    \n",
    "    body_model = body_model + translation\n",
    "    \n",
    "    return body_model"
   ]
  },
  {
   "cell_type": "markdown",
   "metadata": {},
   "source": [
    "## Leg Functions"
   ]
  },
  {
   "cell_type": "code",
   "execution_count": null,
   "metadata": {},
   "outputs": [],
   "source": [
    "def legPos(coax_angle, femur_angle, tibia_angle, body_model, leg_num):\n",
    "    # finds the positions for the coax, femur, and tibia leg segments and adds them to the body model\n",
    "    coax_rot = zRot(coax_angle)\n",
    "    femur_rot = np.matmul(yRot(femur_angle), coax_rot)\n",
    "    tibia_rot = np.matmul(yRot(tibia_angle), femur_rot)\n",
    "    \n",
    "    leg_coax = np.matmul(inv(coax_rot), np.array([[coax, 0, 0]]).T) + np.array([body_model[leg_num, :]]).T\n",
    "    leg_femur = np.matmul(inv(femur_rot), np.array([[femur, 0, 0]]).T) + leg_coax\n",
    "    leg_tibia = np.matmul(inv(tibia_rot), np.array([[0, 0, -tibia]]).T) + leg_femur\n",
    "                       \n",
    "    leg_model = np.concatenate((np.array([body_model[leg_num, :]]), leg_coax.T, leg_femur.T, leg_tibia.T), axis = 0)\n",
    "    return leg_model"
   ]
  },
  {
   "cell_type": "code",
   "execution_count": null,
   "metadata": {},
   "outputs": [],
   "source": [
    "def legAngle(x, y, z):\n",
    "    # finds the angles for the coax, femur, and tibia leg segments\n",
    "    coax_angle = math.degrees(math.atan2(y, x));\n",
    "    coax_rot = zRot(-coax_angle)\n",
    "    leg_rotated = np.matmul(inv(coax_rot), np.array([[x, y, z]]).T)\n",
    "    femur_angle = math.degrees(math.acos((tibia ** 2 - femur ** 2 - leg_rotated[2] ** 2 - (leg_rotated[0] - coax) ** 2) / (-2 * femur * (math.sqrt(leg_rotated[2] ** 2 + (leg_rotated[0] - coax) ** 2))))) - math.degrees(math.atan2(-leg_rotated[2], (leg_rotated[0] - coax)));\n",
    "    tibia_angle = math.degrees(math.acos((leg_rotated[2] ** 2 + (leg_rotated[0] - coax) ** 2 - femur ** 2 - tibia ** 2) / (-2 * femur * tibia))) - 90;\n",
    "    \n",
    "    if abs(coax_angle) <= 1e-10:\n",
    "        coax_angle = 0;\n",
    "        \n",
    "    if abs(femur_angle) <= 1e-10:\n",
    "        femur_angle = 0;\n",
    "    \n",
    "    if abs(tibia_angle) <= 1e-10:\n",
    "        tibia_angle = 0;\n",
    "    \n",
    "    return [coax_angle, femur_angle, tibia_angle]"
   ]
  },
  {
   "cell_type": "markdown",
   "metadata": {},
   "source": [
    "## Create the starting angles of the legs on the hexapod based "
   ]
  },
  {
   "cell_type": "code",
   "execution_count": null,
   "metadata": {},
   "outputs": [],
   "source": [
    "def startLegPos(start_radius = 150, start_height = 20):\n",
    "    start_leg0 = legAngle(start_radius * math.cos(math.pi / 3) - body_model[0, 0], start_radius * math.sin(math.pi / 3) - body_model[0, 1], - start_height - body_model[0, 2])\n",
    "    start_leg1 = legAngle(start_radius - body_model[1, 0], - body_model[1, 1], - start_height - body_model[1, 2])\n",
    "    start_leg2 = legAngle(start_radius * math.cos(- math.pi / 3) - body_model[2, 0], start_radius * math.sin(- math.pi / 3) - body_model[2, 1], - start_height - body_model[2, 2])\n",
    "    start_leg3 = legAngle(start_radius * math.cos(- 2 * math.pi / 3) - body_model[3, 0], start_radius * math.sin(- 2 * math.pi / 3) - body_model[3, 1], - start_height - body_model[3, 2])\n",
    "    start_leg4 = legAngle(- start_radius + body_model[1, 0], -body_model[4, 1], - start_height - body_model[4, 2])\n",
    "    start_leg5 = legAngle(start_radius * math.cos(2 * math.pi / 3) - body_model[5, 0], start_radius * math.sin(2 * math.pi / 3) - body_model[5, 1], - start_height - body_model[5, 2])\n",
    "    start_leg_combined =  np.concatenate((np.array([start_leg0]), np.array([start_leg1]), np.array([start_leg2]), np.array([start_leg3]), np.array([start_leg4]), np.array([start_leg5])), axis = 0)\n",
    "    return start_leg_combined"
   ]
  },
  {
   "cell_type": "markdown",
   "metadata": {},
   "source": [
    "## Plot Model"
   ]
  },
  {
   "cell_type": "code",
   "execution_count": null,
   "metadata": {},
   "outputs": [],
   "source": [
    "def showModel():\n",
    "    # plots the whole hexapod model\n",
    "    fig = plt.figure()\n",
    "    ax = plt.axes(projection ='3d')\n",
    "    # plotting\n",
    "    ax.plot3D(body_model[:, 0], body_model[:, 1], body_model[:, 2], 'green');\n",
    "    for i in range(6):\n",
    "        ax.plot3D(leg_model[:, 0, i], leg_model[:, 1, i], leg_model[:, 2, i], 'blue');\n",
    "    ax.set_xlim(-200, 200);\n",
    "    ax.set_ylim(-200, 200);\n",
    "    ax.set_zlim(-100, 100);"
   ]
  },
  {
   "cell_type": "markdown",
   "metadata": {},
   "source": [
    "# Hexapod Measurments"
   ]
  },
  {
   "cell_type": "code",
   "execution_count": null,
   "metadata": {},
   "outputs": [],
   "source": [
    "# hexapod measurments\n",
    "body_offset = 85 #mm\n",
    "coax = 26.34 #mm\n",
    "femur = 76.2 #mm\n",
    "tibia = 88.32 #mm"
   ]
  },
  {
   "cell_type": "markdown",
   "metadata": {},
   "source": [
    "# Body Starting Position"
   ]
  },
  {
   "cell_type": "code",
   "execution_count": null,
   "metadata": {},
   "outputs": [],
   "source": [
    "body_model = bodyPos(0, 0, 0, 0, 0, 0);"
   ]
  },
  {
   "cell_type": "code",
   "execution_count": null,
   "metadata": {},
   "outputs": [],
   "source": [
    "%matplotlib inline\n",
    "\n",
    "fig = plt.figure()\n",
    "ax = plt.axes(projection ='3d')\n",
    "# plotting\n",
    "ax.plot3D(body_model[:, 0], body_model[:, 1], body_model[:, 2], 'green');\n",
    "ax.set_xlim(-100, 100);\n",
    "ax.set_ylim(-100, 100);\n",
    "ax.set_zlim(-100, 100);"
   ]
  },
  {
   "cell_type": "markdown",
   "metadata": {},
   "source": [
    "# Leg Starting Positions"
   ]
  },
  {
   "cell_type": "code",
   "execution_count": null,
   "metadata": {},
   "outputs": [],
   "source": [
    "start_leg = startLegPos()\n",
    "leg_model = np.empty([4, 3, 6])\n",
    "\n",
    "for i in range(6):\n",
    "    leg_model[:, :, i] = legPos(start_leg[i][0], start_leg[i][1], start_leg[i][2], body_model, i) #coax angle, femur angle, tibia angle, model of the hexapod body, leg number\n",
    "    #print out the leg end positions for debugging\n",
    "    print(leg_model[3,:,i])"
   ]
  },
  {
   "cell_type": "code",
   "execution_count": null,
   "metadata": {},
   "outputs": [],
   "source": [
    "%matplotlib qt\n",
    "\n",
    "showModel()"
   ]
  },
  {
   "cell_type": "code",
   "execution_count": null,
   "metadata": {},
   "outputs": [],
   "source": []
  }
 ],
 "metadata": {
  "kernelspec": {
   "display_name": "Python 3 (ipykernel)",
   "language": "python",
   "name": "python3"
  },
  "language_info": {
   "codemirror_mode": {
    "name": "ipython",
    "version": 3
   },
   "file_extension": ".py",
   "mimetype": "text/x-python",
   "name": "python",
   "nbconvert_exporter": "python",
   "pygments_lexer": "ipython3",
   "version": "3.8.12"
  }
 },
 "nbformat": 4,
 "nbformat_minor": 4
}
