{
 "cells": [
  {
   "cell_type": "markdown",
   "metadata": {},
   "source": [
    "# Imports"
   ]
  },
  {
   "cell_type": "code",
   "execution_count": 1,
   "metadata": {},
   "outputs": [],
   "source": [
    "import numpy as np\n",
    "from numpy.linalg import inv\n",
    "import matplotlib.pyplot as plt\n",
    "import seaborn as sns\n",
    "import math"
   ]
  },
  {
   "cell_type": "markdown",
   "metadata": {},
   "source": [
    "# Function Definitions"
   ]
  },
  {
   "cell_type": "markdown",
   "metadata": {},
   "source": [
    "## Rotation Matrices"
   ]
  },
  {
   "cell_type": "code",
   "execution_count": 2,
   "metadata": {},
   "outputs": [],
   "source": [
    "def xRot(theta):\n",
    "    angle = math.radians(theta)\n",
    "    mat = np.array([[1, 0, 0],\n",
    "                   [0, math.cos(angle), math.sin(angle)],\n",
    "                   [0, -math.sin(angle), math.cos(angle)]])\n",
    "    return mat"
   ]
  },
  {
   "cell_type": "code",
   "execution_count": 3,
   "metadata": {},
   "outputs": [],
   "source": [
    "def yRot(theta):\n",
    "    angle = math.radians(theta)\n",
    "    mat = np.array([[math.cos(angle), 0, -math.sin(angle)],\n",
    "                   [0, 1, 0],\n",
    "                   [math.sin(angle), 0, math.cos(angle)]])\n",
    "    return mat"
   ]
  },
  {
   "cell_type": "code",
   "execution_count": 4,
   "metadata": {},
   "outputs": [],
   "source": [
    "def zRot(theta):\n",
    "    angle = math.radians(theta)\n",
    "    mat = np.array([[math.cos(angle), math.sin(angle), 0],\n",
    "                   [-math.sin(angle), math.cos(angle), 0],\n",
    "                   [0, 0, 1]])\n",
    "    return mat"
   ]
  },
  {
   "cell_type": "markdown",
   "metadata": {},
   "source": [
    "## Body Functions"
   ]
  },
  {
   "cell_type": "code",
   "execution_count": 27,
   "metadata": {},
   "outputs": [],
   "source": [
    "def bodyPos(pitch, roll, yaw):\n",
    "    body_rot = np.matmul(zRot(yaw), yRot(roll))\n",
    "    body_rot = np.matmul(body_rot, xRot(pitch));\n",
    "    \n",
    "    body_0 = np.matmul(inv(body_rot), np.array([[body_offset / 2, body_offset * math.sin(math.pi / 3), 0]]).T);\n",
    "    body_1 = np.matmul(inv(body_rot), np.array([[body_offset, 0, 0]]).T);\n",
    "    body_2 = np.matmul(inv(body_rot), np.array([[body_offset / 2, -body_offset * math.sin(math.pi / 3), 0]]).T);\n",
    "    body_3 = np.matmul(inv(body_rot), np.array([[-body_offset / 2, -body_offset * math.sin(math.pi / 3), 0]]).T);\n",
    "    body_4 = np.matmul(inv(body_rot), np.array([[-body_offset, 0, 0]]).T);\n",
    "    body_5 = np.matmul(inv(body_rot), np.array([[-body_offset / 2, body_offset * math.sin(math.pi / 3), 0]]).T);\n",
    "    \n",
    "    body_model = np.concatenate((body_0.T, body_1.T, body_2.T, body_3.T, body_4.T, body_5.T, body_0.T), axis = 0)\n",
    "    return body_model"
   ]
  },
  {
   "cell_type": "markdown",
   "metadata": {},
   "source": [
    "## Leg Functions"
   ]
  },
  {
   "cell_type": "code",
   "execution_count": 6,
   "metadata": {},
   "outputs": [],
   "source": [
    "def legPos(coax_angle, femur_angle, tibia_angle, body_model, leg_num):\n",
    "    coax_rot = zRot(coax_angle)\n",
    "    femur_rot = np.matmul(yRot(femur_angle), coax_rot)\n",
    "    tibia_rot = np.matmul(yRot(tibia_angle), femur_rot)\n",
    "    \n",
    "    leg_coax = np.matmul(inv(coax_rot), np.array([[coax, 0, 0]]).T) + np.array([body_model[leg_num, :]]).T\n",
    "    leg_femur = np.matmul(inv(femur_rot), np.array([[femur, 0, 0]]).T) + leg_coax\n",
    "    leg_tibia = np.matmul(inv(tibia_rot), np.array([[0, 0, -tibia]]).T) + leg_femur\n",
    "                       \n",
    "    leg_model = np.concatenate((np.array([body_model[leg_num, :]]), leg_coax.T, leg_femur.T, leg_tibia.T), axis = 0)\n",
    "    return leg_model"
   ]
  },
  {
   "cell_type": "code",
   "execution_count": 7,
   "metadata": {},
   "outputs": [],
   "source": [
    "def legAngle(x, y, z):\n",
    "    coax_angle = math.degrees(math.atan2(y, x));\n",
    "    femur_angle = math.degrees(math.acos((tibia ** 2 - femur ** 2 - z ** 2 - (x - coax) ** 2) / (-2 * femur * (math.sqrt(z ** 2 + (x - coax) ** 2))))) - math.degrees(math.atan2(-z, (x - coax)))\n",
    "    tibia_angle = 90 - math.degrees(math.acos((z ** 2 + (x - coax) ** 2 - femur ** 2 - tibia ** 2) / (-2 * femur * tibia)))\n",
    "    \n",
    "    if coax_angle <= 1e-10:\n",
    "        coax_angle = 0;\n",
    "        \n",
    "    if femur_angle <= 1e-10:\n",
    "        femur_angle = 0;\n",
    "    \n",
    "    if tibia_angle <= 1e-10:\n",
    "        tibia_angle = 0;\n",
    "    \n",
    "    return [coax_angle, femur_angle, tibia_angle]"
   ]
  },
  {
   "cell_type": "markdown",
   "metadata": {},
   "source": [
    "## Plot Model"
   ]
  },
  {
   "cell_type": "code",
   "execution_count": 8,
   "metadata": {},
   "outputs": [],
   "source": [
    "def showModel():\n",
    "    fig = plt.figure()\n",
    "    ax = plt.axes(projection ='3d')\n",
    "    # plotting\n",
    "    ax.plot3D(body_model[:, 0], body_model[:, 1], body_model[:, 2], 'green');\n",
    "    ax.plot3D(leg0_model[:, 0], leg0_model[:, 1], leg0_model[:, 2], 'blue');\n",
    "    ax.plot3D(leg1_model[:, 0], leg1_model[:, 1], leg1_model[:, 2], 'blue');\n",
    "    ax.plot3D(leg2_model[:, 0], leg2_model[:, 1], leg2_model[:, 2], 'blue');\n",
    "    ax.plot3D(leg3_model[:, 0], leg3_model[:, 1], leg3_model[:, 2], 'blue');\n",
    "    ax.plot3D(leg4_model[:, 0], leg4_model[:, 1], leg4_model[:, 2], 'blue');\n",
    "    ax.plot3D(leg5_model[:, 0], leg5_model[:, 1], leg5_model[:, 2], 'blue');\n",
    "    ax.set_xlim(-200, 200);\n",
    "    ax.set_ylim(-200, 200);\n",
    "    ax.set_zlim(-100, 100);"
   ]
  },
  {
   "cell_type": "markdown",
   "metadata": {},
   "source": [
    "# Hexapod Measurments"
   ]
  },
  {
   "cell_type": "code",
   "execution_count": 9,
   "metadata": {},
   "outputs": [],
   "source": [
    "body_offset = 85 #mm\n",
    "coax = 26.34 #mm\n",
    "femur = 76.2 #mm\n",
    "tibia = 88.32 #mm"
   ]
  },
  {
   "cell_type": "markdown",
   "metadata": {},
   "source": [
    "# Body Starting Position"
   ]
  },
  {
   "cell_type": "code",
   "execution_count": 30,
   "metadata": {},
   "outputs": [
    {
     "name": "stdout",
     "output_type": "stream",
     "text": [
      "[[ 42.5         36.80607966  63.75      ]\n",
      " [ 85.           0.           0.        ]\n",
      " [ 42.5        -36.80607966 -63.75      ]\n",
      " [-42.5        -36.80607966 -63.75      ]\n",
      " [-85.           0.           0.        ]\n",
      " [-42.5         36.80607966  63.75      ]\n",
      " [ 42.5         36.80607966  63.75      ]]\n"
     ]
    }
   ],
   "source": [
    "body_model = bodyPos(60, 0, 0);"
   ]
  },
  {
   "cell_type": "code",
   "execution_count": 29,
   "metadata": {},
   "outputs": [],
   "source": [
    "%matplotlib inline\n",
    "\n",
    "fig = plt.figure()\n",
    "ax = plt.axes(projection ='3d')\n",
    "# plotting\n",
    "ax.plot3D(body_model[:, 0], body_model[:, 1], body_model[:, 2], 'green');"
   ]
  },
  {
   "cell_type": "markdown",
   "metadata": {},
   "source": [
    "# Leg Starting Positions"
   ]
  },
  {
   "cell_type": "code",
   "execution_count": 13,
   "metadata": {},
   "outputs": [],
   "source": [
    "leg0_model = legPos(60, 0, 0, body_model, 0) #coax angle, femur angle, tibia angle, model of the hexapod body, leg number\n",
    "leg1_model = legPos(0, 0, 0, body_model, 1)\n",
    "leg2_model = legPos(-60, 0, 0, body_model, 2)\n",
    "leg3_model = legPos(-120, 0, 0, body_model, 3)\n",
    "leg4_model = legPos(180, 0, 0, body_model, 4)\n",
    "leg5_model = legPos(120, 0, 0, body_model, 5)"
   ]
  },
  {
   "cell_type": "code",
   "execution_count": 16,
   "metadata": {},
   "outputs": [],
   "source": [
    "%matplotlib qt\n",
    "\n",
    "showModel()"
   ]
  },
  {
   "cell_type": "code",
   "execution_count": 15,
   "metadata": {},
   "outputs": [
    {
     "data": {
      "text/plain": [
       "[0, 0, 0]"
      ]
     },
     "execution_count": 15,
     "metadata": {},
     "output_type": "execute_result"
    }
   ],
   "source": [
    "legAngle(coax + femur, 0, -tibia)"
   ]
  }
 ],
 "metadata": {
  "kernelspec": {
   "display_name": "Python 3",
   "language": "python",
   "name": "python3"
  },
  "language_info": {
   "codemirror_mode": {
    "name": "ipython",
    "version": 3
   },
   "file_extension": ".py",
   "mimetype": "text/x-python",
   "name": "python",
   "nbconvert_exporter": "python",
   "pygments_lexer": "ipython3",
   "version": "3.8.5"
  }
 },
 "nbformat": 4,
 "nbformat_minor": 4
}
